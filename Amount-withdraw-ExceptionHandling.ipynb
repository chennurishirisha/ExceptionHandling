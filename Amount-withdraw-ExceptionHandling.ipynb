{
 "cells": [
  {
   "cell_type": "markdown",
   "id": "4eb8923e",
   "metadata": {},
   "source": [
    "# use of Exceptions\n",
    "WITHDRAW MONEY FROM BANK.\n",
    "--balence in bank should not be less than 1000.\n",
    "--user account will be blocked for an hour if user put 3 times wrong pin"
   ]
  },
  {
   "cell_type": "code",
   "execution_count": 1,
   "id": "0ffec258",
   "metadata": {},
   "outputs": [
    {
     "name": "stdout",
     "output_type": "stream",
     "text": [
      " enter the PIN:1234\n",
      "enter amount to withdraw:8500\n",
      "Remained balence is : 1500.0\n"
     ]
    }
   ],
   "source": [
    "import time\n",
    "class BalenceExceptionError(Exception):\n",
    "    pass\n",
    "class AttemptExceptionError(Exception):\n",
    "    pass\n",
    "attempts = 1\n",
    "\n",
    "def withdraw():\n",
    "    global attempts\n",
    "    save_pin = 1234   #hard code\n",
    "    balance = 10000   #hard code\n",
    "    pin = int(input(' enter the PIN:'))\n",
    "    if pin ==save_pin:\n",
    "        try:\n",
    "            amt = float(input('enter amount to withdraw:'))\n",
    "            temp_balance = balance-amt\n",
    "            if temp_balance <1000:\n",
    "                raise BalenceExceptionError('Insufficient balence')\n",
    "            balance = balance-amt\n",
    "            print('Remained balence is :',balance)\n",
    "        except Exception as var:\n",
    "            print(var)\n",
    "    else:\n",
    "        ans = input('Wrong Pin,do you want to continue again:(y/n): ')\n",
    "        if ans.lower() =='y':\n",
    "            attempts +=1\n",
    "            try:\n",
    "                if attempts ==4:\n",
    "                    raise AttemptExceptionError('Too many attempts, your account is blocked for an hour')\n",
    "            except Exception as var:\n",
    "                \n",
    "                print(var)\n",
    "                time.sleep(3600)\n",
    "            else:\n",
    "                withdraw()\n",
    "        else:\n",
    "            print('Thank you')\n",
    "            return\n",
    "\n",
    "withdraw()"
   ]
  },
  {
   "cell_type": "code",
   "execution_count": 2,
   "id": "e55f59d4",
   "metadata": {},
   "outputs": [
    {
     "name": "stdout",
     "output_type": "stream",
     "text": [
      " enter the PIN:1234\n",
      "enter amount to withdraw:11500\n",
      "Insufficient balence\n"
     ]
    }
   ],
   "source": [
    "import time\n",
    "class BalenceExceptionError(Exception):\n",
    "    pass\n",
    "class AttemptExceptionError(Exception):\n",
    "    pass\n",
    "attempts = 1\n",
    "\n",
    "def withdraw():\n",
    "    global attempts\n",
    "    save_pin = 1234   #hard code\n",
    "    balance = 10000   #hard code\n",
    "    pin = int(input(' enter the PIN:'))\n",
    "    if pin ==save_pin:\n",
    "        try:\n",
    "            amt = float(input('enter amount to withdraw:'))\n",
    "            temp_balance = balance-amt\n",
    "            if temp_balance <1000:\n",
    "                raise BalenceExceptionError('Insufficient balence')\n",
    "            balance = balance-amt\n",
    "            print('Remained balence is :',balance)\n",
    "        except Exception as var:\n",
    "            print(var)\n",
    "    else:\n",
    "        ans = input('Wrong Pin,do you want to continue again:(y/n): ')\n",
    "        if ans.lower() =='y':\n",
    "            attempts +=1\n",
    "            try:\n",
    "                if attempts ==4:\n",
    "                    raise AttemptExceptionError('Too many attempts, your account is blocked for an hour')\n",
    "            except Exception as var:\n",
    "                \n",
    "                print(var)\n",
    "                time.sleep(3600)\n",
    "            else:\n",
    "                withdraw()\n",
    "        else:\n",
    "            print('Thank you')\n",
    "            return\n",
    "\n",
    "withdraw()"
   ]
  },
  {
   "cell_type": "code",
   "execution_count": null,
   "id": "401204b4",
   "metadata": {},
   "outputs": [],
   "source": []
  }
 ],
 "metadata": {
  "kernelspec": {
   "display_name": "Python 3 (ipykernel)",
   "language": "python",
   "name": "python3"
  },
  "language_info": {
   "codemirror_mode": {
    "name": "ipython",
    "version": 3
   },
   "file_extension": ".py",
   "mimetype": "text/x-python",
   "name": "python",
   "nbconvert_exporter": "python",
   "pygments_lexer": "ipython3",
   "version": "3.11.0"
  }
 },
 "nbformat": 4,
 "nbformat_minor": 5
}
