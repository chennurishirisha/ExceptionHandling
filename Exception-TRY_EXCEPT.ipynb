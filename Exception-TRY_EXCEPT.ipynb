{
 "cells": [
  {
   "cell_type": "code",
   "execution_count": 1,
   "id": "94c8cbff",
   "metadata": {},
   "outputs": [
    {
     "name": "stdout",
     "output_type": "stream",
     "text": [
      "25.0\n"
     ]
    },
    {
     "ename": "ZeroDivisionError",
     "evalue": "division by zero",
     "output_type": "error",
     "traceback": [
      "\u001b[1;31m---------------------------------------------------------------------------\u001b[0m",
      "\u001b[1;31mZeroDivisionError\u001b[0m                         Traceback (most recent call last)",
      "Cell \u001b[1;32mIn[1], line 2\u001b[0m\n\u001b[0;32m      1\u001b[0m \u001b[38;5;28mprint\u001b[39m(\u001b[38;5;241m50\u001b[39m\u001b[38;5;241m/\u001b[39m\u001b[38;5;241m2\u001b[39m)\n\u001b[1;32m----> 2\u001b[0m \u001b[38;5;28mprint\u001b[39m(\u001b[38;5;241;43m10\u001b[39;49m\u001b[38;5;241;43m/\u001b[39;49m\u001b[38;5;241;43m0\u001b[39;49m)\n\u001b[0;32m      3\u001b[0m \u001b[38;5;28mprint\u001b[39m(\u001b[38;5;241m22\u001b[39m\u001b[38;5;241m/\u001b[39m\u001b[38;5;241m3\u001b[39m)\n",
      "\u001b[1;31mZeroDivisionError\u001b[0m: division by zero"
     ]
    }
   ],
   "source": [
    "print(50/2)\n",
    "print(10/0)\n",
    "print(22/3)"
   ]
  },
  {
   "cell_type": "code",
   "execution_count": 2,
   "id": "1156000c",
   "metadata": {},
   "outputs": [
    {
     "name": "stdout",
     "output_type": "stream",
     "text": [
      "25.0\n",
      "5.0\n",
      "10.0\n"
     ]
    }
   ],
   "source": [
    "print(50/2)\n",
    "\n",
    "try:\n",
    "    print(10/0)\n",
    "except ZeroDivisionError:\n",
    "    print(10/2)\n",
    "\n",
    "    print(50/5)"
   ]
  },
  {
   "cell_type": "code",
   "execution_count": 3,
   "id": "4ffac0c7",
   "metadata": {},
   "outputs": [
    {
     "name": "stdout",
     "output_type": "stream",
     "text": [
      "excetion type: <class 'ZeroDivisionError'>\n"
     ]
    }
   ],
   "source": [
    "try:\n",
    "    print(10/0)\n",
    "except ZeroDivisionError as msg:\n",
    "    print('excetion type:',type(msg))\n",
    "    "
   ]
  },
  {
   "cell_type": "code",
   "execution_count": 6,
   "id": "d8e070dd",
   "metadata": {},
   "outputs": [
    {
     "name": "stdout",
     "output_type": "stream",
     "text": [
      "excetion type: <class 'ZeroDivisionError'>\n",
      "excetion type: <class 'ZeroDivisionError'>\n",
      "exception class name: ZeroDivisionError\n",
      "The discription of exception: division by zero\n"
     ]
    }
   ],
   "source": [
    "try:\n",
    "    print(10/0)\n",
    "except ZeroDivisionError as msg:\n",
    "    print('excetion type:',type(msg))\n",
    "    print('excetion type:',msg.__class__)\n",
    "    print('exception class name:',msg.__class__.__name__)\n",
    "    print('The discription of exception:',msg)"
   ]
  },
  {
   "cell_type": "code",
   "execution_count": 11,
   "id": "c8dc5dde",
   "metadata": {},
   "outputs": [
    {
     "name": "stdout",
     "output_type": "stream",
     "text": [
      "enter first number:5\n",
      "enter second number:0\n",
      "the type of exception: <class 'ZeroDivisionError'>\n",
      "the type of exception: <class 'ZeroDivisionError'>\n",
      "the name of exception: ZeroDivisionError\n",
      "the discription of exception: division by zero\n"
     ]
    }
   ],
   "source": [
    "try:\n",
    "    x= int(input('enter first number:'))\n",
    "    y = int(input('enter second number:'))\n",
    "    print('the result:',x/y)\n",
    "except BaseException as msg:\n",
    "    print('the type of exception:', type(msg))\n",
    "    print('the type of exception:',msg.__class__)\n",
    "    print('the name of exception:',msg.__class__.__name__)\n",
    "    print('the discription of exception:',msg)"
   ]
  },
  {
   "cell_type": "code",
   "execution_count": 12,
   "id": "2e918e46",
   "metadata": {},
   "outputs": [
    {
     "name": "stdout",
     "output_type": "stream",
     "text": [
      "enter first number:2\n",
      "enter second number:2.0\n",
      "the type of exception: <class 'ValueError'>\n",
      "the type of exception: <class 'ValueError'>\n",
      "the name of exception: ValueError\n",
      "the discription of exception: invalid literal for int() with base 10: '2.0'\n"
     ]
    }
   ],
   "source": [
    "try:\n",
    "    x= int(input('enter first number:'))\n",
    "    y = int(input('enter second number:'))\n",
    "    print('the result:',x/y)\n",
    "except BaseException as msg:\n",
    "    print('the type of exception:', type(msg))\n",
    "    print('the type of exception:',msg.__class__)\n",
    "    print('the name of exception:',msg.__class__.__name__)\n",
    "    print('the discription of exception:',msg)\n",
    "#give any sting or float value etc but   exept int"
   ]
  },
  {
   "cell_type": "code",
   "execution_count": 3,
   "id": "434659b8",
   "metadata": {},
   "outputs": [
    {
     "name": "stdout",
     "output_type": "stream",
     "text": [
      "enter any number:5\n",
      "enter any number:2.0\n",
      "please provide int values int values only\n"
     ]
    }
   ],
   "source": [
    "try:\n",
    "    x = int(input('enter any number:'))\n",
    "    y = int(input('enter any number:'))\n",
    "    print('the result:',x/y)\n",
    "except ZeroDivisionError:\n",
    "    print('cannot divide with zero')\n",
    "\n",
    "except ValueError:\n",
    "    print('please provide int values int values only')\n",
    "    "
   ]
  },
  {
   "cell_type": "code",
   "execution_count": 4,
   "id": "ffd748bb",
   "metadata": {},
   "outputs": [
    {
     "name": "stdout",
     "output_type": "stream",
     "text": [
      "cannot divide with zero\n"
     ]
    }
   ],
   "source": [
    "try:\n",
    "    print(10/0)\n",
    "    print('the result:',x/y)\n",
    "except ZeroDivisionError:\n",
    "    print('cannot divide with zero')\n",
    "\n",
    "except AirthmeticError:\n",
    "    print('AirthmeticError')\n",
    "    "
   ]
  },
  {
   "cell_type": "code",
   "execution_count": 6,
   "id": "a4fc2288",
   "metadata": {},
   "outputs": [
    {
     "name": "stdout",
     "output_type": "stream",
     "text": [
      "ArithmeticError\n"
     ]
    }
   ],
   "source": [
    "try:\n",
    "    print(10/0)\n",
    "    print('the result:',x/y)\n",
    "except ArithmeticError:\n",
    "    print('ArithmeticError')\n",
    "    \n",
    "except ZeroDivisionError:\n",
    "    print('cannot divide with zero')\n",
    "    \n",
    "#ZeroDivisionError parentclass is ArithmeticError\n",
    "#ArithmeticError parent class is Exception\n",
    "#Exception parent class is BaseException.\n",
    "#so the result is \"ArithmeticError\""
   ]
  },
  {
   "cell_type": "code",
   "execution_count": 12,
   "id": "5cfdde27",
   "metadata": {},
   "outputs": [
    {
     "name": "stdout",
     "output_type": "stream",
     "text": [
      "enter first number:6\n",
      "enter second number:two\n",
      "Exception NAme: ValueError\n",
      "Description of Exception: invalid literal for int() with base 10: 'two'\n",
      "please provide valid input only.\n"
     ]
    }
   ],
   "source": [
    "#SINGLE EXCEPT BLOCK THAT CAN HANDLE MULTIPLE DIFFERENT  EXCEPTIONS::\n",
    "try:\n",
    "    x= int(input('enter first number:'))\n",
    "    y = int(input('enter second number:'))\n",
    "    print('the result:',x/y)\n",
    "except(ZeroDivisionError,ValueError)as msg:\n",
    "    print('Exception NAme:',msg.__class__.__name__)\n",
    "    print('Description of Exception:',msg)\n",
    "    print('please provide valid input only.')\n"
   ]
  },
  {
   "cell_type": "code",
   "execution_count": 13,
   "id": "20bd5360",
   "metadata": {
    "scrolled": true
   },
   "outputs": [
    {
     "name": "stdout",
     "output_type": "stream",
     "text": [
      "enter first number:5\n",
      "enter second number:3.0\n",
      "Default Except block providse int values\n"
     ]
    }
   ],
   "source": [
    "#default except block:\n",
    "try:\n",
    "    x = int(input('enter first number:'))\n",
    "    y = int(input('enter second number:'))\n",
    "    print('the value:',x/y)\n",
    "except ZeroDivisionError:\n",
    "    print('ZeroDivisionError divide by zero')\n",
    "except ValueError:\n",
    "    print('VAlueError')\n",
    "except:\n",
    "    print('Default Except block providse int values')\n"
   ]
  },
  {
   "cell_type": "code",
   "execution_count": 14,
   "id": "9bea8d04",
   "metadata": {},
   "outputs": [
    {
     "ename": "SyntaxError",
     "evalue": "default 'except:' must be last (3363711453.py, line 5)",
     "output_type": "error",
     "traceback": [
      "\u001b[1;36m  Cell \u001b[1;32mIn[14], line 5\u001b[1;36m\u001b[0m\n\u001b[1;33m    except:\u001b[0m\n\u001b[1;37m    ^\u001b[0m\n\u001b[1;31mSyntaxError\u001b[0m\u001b[1;31m:\u001b[0m default 'except:' must be last\n"
     ]
    }
   ],
   "source": [
    "try:\n",
    "    x = int(input('enter first number:'))\n",
    "    y = int(input('enter second number:'))\n",
    "    print('the value:',x/y)\n",
    "except:  #default except block\n",
    "    print('Default Except block providse int values')    \n",
    "\n",
    "except ZeroDivisionError:\n",
    "    print('ZeroDivisionError divide by zero')"
   ]
  },
  {
   "cell_type": "code",
   "execution_count": 16,
   "id": "06656266",
   "metadata": {},
   "outputs": [
    {
     "name": "stdout",
     "output_type": "stream",
     "text": [
      "try\n",
      "finally\n"
     ]
    }
   ],
   "source": [
    "## FINALLY BLOCK\n",
    "#case1...>if exception not raised\n",
    "try:\n",
    "    print('try')\n",
    "except ZeroDivisionError:\n",
    "    print('except')\n",
    "    \n",
    "finally:\n",
    "    print('finally')"
   ]
  },
  {
   "cell_type": "code",
   "execution_count": 17,
   "id": "3eff8180",
   "metadata": {},
   "outputs": [
    {
     "name": "stdout",
     "output_type": "stream",
     "text": [
      "try\n",
      "except\n",
      "finally\n"
     ]
    }
   ],
   "source": [
    "#case2. if exception raised AND handled:\n",
    "try:\n",
    "    print('try')raised\n",
    "    print(10/0)\n",
    "except ZeroDivisionError:\n",
    "    print('except')\n",
    "    \n",
    "finally:\n",
    "    print('finally')"
   ]
  },
  {
   "cell_type": "code",
   "execution_count": 21,
   "id": "99ba8dae",
   "metadata": {},
   "outputs": [
    {
     "name": "stdout",
     "output_type": "stream",
     "text": [
      "try\n",
      "finally\n"
     ]
    },
    {
     "ename": "ZeroDivisionError",
     "evalue": "division by zero",
     "output_type": "error",
     "traceback": [
      "\u001b[1;31m---------------------------------------------------------------------------\u001b[0m",
      "\u001b[1;31mZeroDivisionError\u001b[0m                         Traceback (most recent call last)",
      "Cell \u001b[1;32mIn[21], line 4\u001b[0m\n\u001b[0;32m      2\u001b[0m \u001b[38;5;28;01mtry\u001b[39;00m:\n\u001b[0;32m      3\u001b[0m     \u001b[38;5;28mprint\u001b[39m(\u001b[38;5;124m'\u001b[39m\u001b[38;5;124mtry\u001b[39m\u001b[38;5;124m'\u001b[39m)\n\u001b[1;32m----> 4\u001b[0m     \u001b[38;5;28mprint\u001b[39m(\u001b[38;5;241;43m10\u001b[39;49m\u001b[38;5;241;43m/\u001b[39;49m\u001b[38;5;241;43m0\u001b[39;49m)\n\u001b[0;32m      5\u001b[0m \u001b[38;5;28;01mexcept\u001b[39;00m \u001b[38;5;167;01mValueError\u001b[39;00m:\n\u001b[0;32m      6\u001b[0m     \u001b[38;5;28mprint\u001b[39m(\u001b[38;5;124m'\u001b[39m\u001b[38;5;124mexcept\u001b[39m\u001b[38;5;124m'\u001b[39m)\n",
      "\u001b[1;31mZeroDivisionError\u001b[0m: division by zero"
     ]
    }
   ],
   "source": [
    "#case3...>if exception raised but not handled:\n",
    "try:\n",
    "    print('try')\n",
    "    print(10/0)\n",
    "except ValueError:\n",
    "    print('except')\n",
    "    \n",
    "finally:\n",
    "    print('finally')"
   ]
  },
  {
   "cell_type": "code",
   "execution_count": null,
   "id": "2850cbe0",
   "metadata": {},
   "outputs": [],
   "source": [
    "import os \n",
    "try:\n",
    "    print('try')\n",
    "    os._exit(0)  # pVM shutdown.exit explactly,0 ...>status code,normaltermination\n",
    "except ValueError:\n",
    "    print('except')\n",
    "finally:\n",
    "    print('finally')"
   ]
  },
  {
   "cell_type": "code",
   "execution_count": 1,
   "id": "a7e88821",
   "metadata": {},
   "outputs": [
    {
     "name": "stdout",
     "output_type": "stream",
     "text": [
      "x is not > 10\n"
     ]
    }
   ],
   "source": [
    "#1.if_else:\n",
    "x = 10\n",
    "if x >10:\n",
    "    print('x > 10')\n",
    "else:\n",
    "    print('x is not > 10')\n",
    "    "
   ]
  },
  {
   "cell_type": "code",
   "execution_count": 2,
   "id": "b53dba3a",
   "metadata": {},
   "outputs": [
    {
     "name": "stdout",
     "output_type": "stream",
     "text": [
      "the current item: 0\n",
      "the current item: 1\n",
      "the current item: 2\n",
      "the current item: 3\n",
      "the current item: 4\n",
      "the current item: 5\n",
      "the current item: 6\n",
      "the current item: 7\n",
      "the current item: 8\n",
      "the current item: 9\n",
      "congratulation ,all item processed sucessfully\n"
     ]
    }
   ],
   "source": [
    "# loop with else:\n",
    "for x in range(10):\n",
    "    print('the current item:',x)\n",
    "else:\n",
    "    print('congratulation ,all item processed sucessfully')"
   ]
  },
  {
   "cell_type": "code",
   "execution_count": 3,
   "id": "c473206d",
   "metadata": {},
   "outputs": [
    {
     "name": "stdout",
     "output_type": "stream",
     "text": [
      "the current item: 0\n",
      "the current item: 1\n",
      "the current item: 2\n",
      "the current item: 3\n",
      "the current item: 4\n",
      "the current item: 5\n"
     ]
    }
   ],
   "source": [
    "for x in range(10):\n",
    "    if x> 5:\n",
    "        break\n",
    "    print('the current item:',x)\n",
    "else:\n",
    "    print('congratulation ,all item processed sucessfully')\n",
    "        \n",
    "        "
   ]
  },
  {
   "cell_type": "code",
   "execution_count": 5,
   "id": "fcf08a66",
   "metadata": {},
   "outputs": [
    {
     "name": "stdout",
     "output_type": "stream",
     "text": [
      "try\n",
      "else\n",
      "finally\n"
     ]
    }
   ],
   "source": [
    "try:\n",
    "    print('try')\n",
    "except:\n",
    "    print('except')\n",
    "else:\n",
    "    print('else')\n",
    "finally:\n",
    "    print('finally')"
   ]
  },
  {
   "cell_type": "code",
   "execution_count": 6,
   "id": "b3c7fb57",
   "metadata": {},
   "outputs": [
    {
     "name": "stdout",
     "output_type": "stream",
     "text": [
      "try\n",
      "except\n",
      "finally\n"
     ]
    }
   ],
   "source": [
    "try:\n",
    "    print('try')\n",
    "    print(10/0)\n",
    "except:\n",
    "    print('except')\n",
    "else:\n",
    "    print('else')\n",
    "finally:\n",
    "    print('finally')"
   ]
  },
  {
   "cell_type": "code",
   "execution_count": 7,
   "id": "8d909025",
   "metadata": {},
   "outputs": [
    {
     "ename": "SyntaxError",
     "evalue": "expected 'except' or 'finally' block (4202330939.py, line 3)",
     "output_type": "error",
     "traceback": [
      "\u001b[1;36m  Cell \u001b[1;32mIn[7], line 3\u001b[1;36m\u001b[0m\n\u001b[1;33m    else:\u001b[0m\n\u001b[1;37m    ^\u001b[0m\n\u001b[1;31mSyntaxError\u001b[0m\u001b[1;31m:\u001b[0m expected 'except' or 'finally' block\n"
     ]
    }
   ],
   "source": [
    "\n",
    "try:\n",
    "    print('try')\n",
    "else:\n",
    "    print('else')\n",
    "finally:\n",
    "    print('finally')\n",
    "# with out except block you can't write elsee block"
   ]
  },
  {
   "cell_type": "code",
   "execution_count": 15,
   "id": "ff267758",
   "metadata": {},
   "outputs": [
    {
     "name": "stdout",
     "output_type": "stream",
     "text": [
      "someproblem while locating and opening the file\n"
     ]
    }
   ],
   "source": [
    "f = None\n",
    "try:\n",
    "    f = open('abc.txt','r')\n",
    "except:\n",
    "    print('someproblem while locating and opening the file')\n",
    "else:\n",
    "    print('file opened successfully')\n",
    "    print('the data present in the file is:')\n",
    "    print('#'*30)\n",
    "    print(f.read())\n",
    "finally:\n",
    "    if f is not None:\n",
    "        f.close()"
   ]
  },
  {
   "cell_type": "code",
   "execution_count": 1,
   "id": "131f66a9",
   "metadata": {},
   "outputs": [
    {
     "name": "stdout",
     "output_type": "stream",
     "text": [
      "inner try\n",
      "inner finally\n"
     ]
    }
   ],
   "source": [
    "try:\n",
    "    try:\n",
    "        print('inner try')\n",
    "    except:\n",
    "        print('inner except')\n",
    "    finally:\n",
    "        print('inner finally')\n",
    "except:\n",
    "    print('outer except')"
   ]
  },
  {
   "cell_type": "code",
   "execution_count": 5,
   "id": "eb5ad9b9",
   "metadata": {},
   "outputs": [
    {
     "name": "stdout",
     "output_type": "stream",
     "text": [
      "enter Age99\n"
     ]
    },
    {
     "ename": "TooYoungException",
     "evalue": "plzwait some more time ,definitely you will get best match",
     "output_type": "error",
     "traceback": [
      "\u001b[1;31m---------------------------------------------------------------------------\u001b[0m",
      "\u001b[1;31mTooYoungException\u001b[0m                         Traceback (most recent call last)",
      "Cell \u001b[1;32mIn[5], line 11\u001b[0m\n\u001b[0;32m      9\u001b[0m age \u001b[38;5;241m=\u001b[39m \u001b[38;5;28mint\u001b[39m(\u001b[38;5;28minput\u001b[39m(\u001b[38;5;124m'\u001b[39m\u001b[38;5;124menter Age\u001b[39m\u001b[38;5;124m'\u001b[39m))\n\u001b[0;32m     10\u001b[0m \u001b[38;5;28;01mif\u001b[39;00m age\u001b[38;5;241m>\u001b[39m\u001b[38;5;241m60\u001b[39m:\n\u001b[1;32m---> 11\u001b[0m     \u001b[38;5;28;01mraise\u001b[39;00m TooYoungException(\u001b[38;5;124m'\u001b[39m\u001b[38;5;124mplzwait some more time ,definitely you will get best match\u001b[39m\u001b[38;5;124m'\u001b[39m)\n\u001b[0;32m     12\u001b[0m \u001b[38;5;28;01melif\u001b[39;00m age\u001b[38;5;241m<\u001b[39m\u001b[38;5;241m18\u001b[39m:\n\u001b[0;32m     13\u001b[0m     \u001b[38;5;28;01mraise\u001b[39;00m TooOldException(\u001b[38;5;124m'\u001b[39m\u001b[38;5;124myour age already crossed marrege age , no chance of getting marraige\u001b[39m\u001b[38;5;124m'\u001b[39m)\n",
      "\u001b[1;31mTooYoungException\u001b[0m: plzwait some more time ,definitely you will get best match"
     ]
    }
   ],
   "source": [
    "class TooYoungException(Exception):\n",
    "    def __init__(self,msg):\n",
    "        self.msg = msg\n",
    "\n",
    "class TooOldException(Exception):\n",
    "    def __init__(self,msg):\n",
    "        self.msg = msg\n",
    "        \n",
    "age = int(input('enter Age'))\n",
    "if age>60:\n",
    "    raise TooYoungException('plzwait some more time ,definitely you will get best match')\n",
    "elif age<18:\n",
    "    raise TooOldException('your age already crossed marrege age , no chance of getting marraige')\n",
    "else:\n",
    "    print('you will get match details soon by email')"
   ]
  },
  {
   "cell_type": "code",
   "execution_count": null,
   "id": "e0054c36",
   "metadata": {},
   "outputs": [],
   "source": []
  }
 ],
 "metadata": {
  "kernelspec": {
   "display_name": "Python 3 (ipykernel)",
   "language": "python",
   "name": "python3"
  },
  "language_info": {
   "codemirror_mode": {
    "name": "ipython",
    "version": 3
   },
   "file_extension": ".py",
   "mimetype": "text/x-python",
   "name": "python",
   "nbconvert_exporter": "python",
   "pygments_lexer": "ipython3",
   "version": "3.11.0"
  }
 },
 "nbformat": 4,
 "nbformat_minor": 5
}
