{
 "cells": [
  {
   "cell_type": "code",
   "execution_count": 2,
   "id": "8b5915c6",
   "metadata": {},
   "outputs": [
    {
     "name": "stdout",
     "output_type": "stream",
     "text": [
      "enter 1st number:100\n",
      "enter 2nd number:0\n",
      "name 'num' is not defined\n",
      "<class 'NameError'>\n",
      "Rest  of code\n"
     ]
    }
   ],
   "source": [
    "num1 = int(input('enter 1st number:'))\n",
    "num2 = int(input('enter 2nd number:'))\n",
    "try:\n",
    "    div = num1/num\n",
    "    print('Division is :',div)\n",
    "except Exception as var:\n",
    "    print(var)\n",
    "    print(var.__class__)\n",
    "    \n",
    "print('Rest  of code')\n",
    "# zeroDivisionError:Division by zero"
   ]
  },
  {
   "cell_type": "code",
   "execution_count": 3,
   "id": "cc15c2bf",
   "metadata": {},
   "outputs": [
    {
     "name": "stdout",
     "output_type": "stream",
     "text": [
      "enter 1st number:20\n",
      "enter 2nd number:0\n",
      "division by zero\n",
      "<class 'ZeroDivisionError'>\n",
      "Rest  of code\n"
     ]
    }
   ],
   "source": [
    "num1 = int(input('enter 1st number:'))\n",
    "num2 = int(input('enter 2nd number:'))\n",
    "try:\n",
    "    div = num1/num2\n",
    "    print('Division is :',div)\n",
    "except Exception as var:\n",
    "    print(var)\n",
    "    print(var.__class__)\n",
    "    \n",
    "print('Rest  of code')\n",
    "# zeroDivisionError:Division by zero"
   ]
  },
  {
   "cell_type": "code",
   "execution_count": 6,
   "id": "bc8d5cbc",
   "metadata": {},
   "outputs": [
    {
     "name": "stdout",
     "output_type": "stream",
     "text": [
      "enter 1st number:10\n",
      "enter 2nd number:'two'\n"
     ]
    },
    {
     "ename": "ValueError",
     "evalue": "invalid literal for int() with base 10: \"'two'\"",
     "output_type": "error",
     "traceback": [
      "\u001b[1;31m---------------------------------------------------------------------------\u001b[0m",
      "\u001b[1;31mValueError\u001b[0m                                Traceback (most recent call last)",
      "Cell \u001b[1;32mIn[6], line 2\u001b[0m\n\u001b[0;32m      1\u001b[0m num1 \u001b[38;5;241m=\u001b[39m \u001b[38;5;28mint\u001b[39m(\u001b[38;5;28minput\u001b[39m(\u001b[38;5;124m'\u001b[39m\u001b[38;5;124menter 1st number:\u001b[39m\u001b[38;5;124m'\u001b[39m))\n\u001b[1;32m----> 2\u001b[0m num2 \u001b[38;5;241m=\u001b[39m \u001b[38;5;28;43mint\u001b[39;49m\u001b[43m(\u001b[49m\u001b[38;5;28;43minput\u001b[39;49m\u001b[43m(\u001b[49m\u001b[38;5;124;43m'\u001b[39;49m\u001b[38;5;124;43menter 2nd number:\u001b[39;49m\u001b[38;5;124;43m'\u001b[39;49m\u001b[43m)\u001b[49m\u001b[43m)\u001b[49m\n\u001b[0;32m      3\u001b[0m \u001b[38;5;28;01mtry\u001b[39;00m:\n\u001b[0;32m      4\u001b[0m     div \u001b[38;5;241m=\u001b[39m num1\u001b[38;5;241m/\u001b[39mnum2\n",
      "\u001b[1;31mValueError\u001b[0m: invalid literal for int() with base 10: \"'two'\""
     ]
    }
   ],
   "source": [
    "num1 = int(input('enter 1st number:'))\n",
    "num2 = int(input('enter 2nd number:'))\n",
    "try:\n",
    "    div = num1/num2\n",
    "    print('Division is :',div)\n",
    "except Exception as var:\n",
    "    print(var)\n",
    "    print(var.__class__)\n",
    "    \n",
    "print('Rest  of code')\n"
   ]
  },
  {
   "cell_type": "code",
   "execution_count": 8,
   "id": "c8f7501f",
   "metadata": {},
   "outputs": [
    {
     "name": "stdout",
     "output_type": "stream",
     "text": [
      "enter 1st number:10\n",
      "enter 2nd number:0\n",
      "<class 'NameError'>\n",
      "name 'num' is not defined\n",
      "Rest  of code\n"
     ]
    }
   ],
   "source": [
    "#by print class name by using sys module\n",
    "import sys\n",
    "num1 = int(input('enter 1st number:'))\n",
    "num2 = int(input('enter 2nd number:'))\n",
    "try:\n",
    "    div = num1/num\n",
    "    print('Divvision is :',div)5555555555555555555555555555555555555555555555555555555555555555555555555555555555555555555555555555555555555555555\n",
    "except Exception as var:\n",
    "    print(sys.exc_info()[0]) #exc..>exception, 0..> classname or exception\n",
    "    print(sys.exc_info()[1])  #  1...> exception information.\n",
    "print('Rest  of code')\n",
    "# zeroDivisionError:Division by zero"
   ]
  },
  {
   "cell_type": "code",
   "execution_count": 2,
   "id": "1fa6546f",
   "metadata": {},
   "outputs": [
    {
     "name": "stdout",
     "output_type": "stream",
     "text": [
      "enter  ur age:5\n",
      "your age is: 5\n",
      "rest of code\n"
     ]
    }
   ],
   "source": [
    "try:\n",
    "    age = int(input('enter  ur age:'))\n",
    "    if age <0:\n",
    "        raise ValueError\n",
    "    print(\"your age is:\",age)\n",
    "except ValueError:\n",
    "    print('Enter valid age')\n",
    "print('rest of code')"
   ]
  },
  {
   "cell_type": "code",
   "execution_count": 6,
   "id": "fc2b41d9",
   "metadata": {},
   "outputs": [
    {
     "name": "stdout",
     "output_type": "stream",
     "text": [
      "enter  ur age:-9\n",
      "invalid age\n",
      "rest of code\n"
     ]
    }
   ],
   "source": [
    "try:\n",
    "    age = int(input('enter  ur age:'))\n",
    "    if age <0:\n",
    "        raise ValueError('invalid age')\n",
    "    print(\"your age is:\",age)\n",
    "except ValueError as msg:\n",
    "    print(msg)\n",
    "print('rest of code')"
   ]
  },
  {
   "cell_type": "markdown",
   "id": "d2c7497e",
   "metadata": {},
   "source": [
    "USER DIFINED EXCEPTION:\n",
    "\n",
    "STEP1:\n",
    "Create exception class and inherit it from base exception class.i.e,Exception.\n",
    "\n",
    "class InvalidAge(Exception):\n",
    "    pass\n",
    "step2.  Raise InvalidAge exception for paraticular condition(age<0) inside try block.\n",
    "\n",
    "try:\n",
    "    if age<0:\n",
    "        raise InvalidAge(message)\n",
    "        \n",
    "step3:Handle the exception using except bock.\n",
    "    \n",
    "    except Exception as obj:\n",
    "        print(obj)"
   ]
  },
  {
   "cell_type": "code",
   "execution_count": 8,
   "id": "5a59fe5c",
   "metadata": {},
   "outputs": [
    {
     "name": "stdout",
     "output_type": "stream",
     "text": [
      "enter first number:9\n",
      "enter second number:5\n",
      "cannot divide by five\n",
      "rest of code\n"
     ]
    }
   ],
   "source": [
    "\n",
    "class FiveDivisionError(Exception):\n",
    "    'this is exception class called when five division reeoe happens'\n",
    "    pass\n",
    "\n",
    "try:\n",
    "    n1 = int(input('enter first number:'))\n",
    "    n2 = int(input('enter second number:'))  # 5\n",
    "    if n2 == 5:\n",
    "        raise FiveDivisionError('cannot divide by five')\n",
    "    div = n1/n2\n",
    "    print('division is :',div)  \n",
    "except (FiveDivisionError,ZeroDivisionError) as var:\n",
    "    print(var)\n",
    "print('rest of code')"
   ]
  },
  {
   "cell_type": "code",
   "execution_count": 9,
   "id": "446466b8",
   "metadata": {
    "scrolled": false
   },
   "outputs": [
    {
     "name": "stdout",
     "output_type": "stream",
     "text": [
      "enter first number:8\n",
      "enter second number:5\n",
      "cannot divide by five\n",
      "\n",
      "rest of code\n"
     ]
    }
   ],
   "source": [
    "\n",
    "class FiveDivisionError(Exception):\n",
    "    'this is exception class called when five division reeoe happens'\n",
    "    def __init__(self):\n",
    "        print('cannot divide by five')\n",
    "    pass\n",
    "\n",
    "try:\n",
    "    n1 = int(input('enter first number:'))\n",
    "    n2 = int(input('enter second number:'))  # 5\n",
    "    if n2 == 5:\n",
    "        raise FiveDivisionError\n",
    "    div = n1/n2\n",
    "    print('division is :',div)  \n",
    "except (FiveDivisionError,ZeroDivisionError) as var:\n",
    "    print(var)\n",
    "print('rest of code')"
   ]
  },
  {
   "cell_type": "markdown",
   "id": "e40fcb57",
   "metadata": {},
   "source": [
    "# use of Exceptions\n",
    "WITHDRAW MONEY FROM BANK.\n",
    "--balence in bank should not be less than 1000.\n",
    "--user account will be blocked for an hour if user put 3 times wrong pin"
   ]
  },
  {
   "cell_type": "code",
   "execution_count": 17,
   "id": "98233786",
   "metadata": {},
   "outputs": [
    {
     "name": "stdout",
     "output_type": "stream",
     "text": [
      " enter the PIN:1234\n",
      "enter amount to withdraw:8000\n",
      "Remained balence is : 2000.0\n"
     ]
    }
   ],
   "source": [
    "import time\n",
    "class BalenceExceptionError(Exception):\n",
    "    pass\n",
    "class AttemptExceptionError(Exception):\n",
    "    pass\n",
    "attempts = 1\n",
    "\n",
    "def withdraw():\n",
    "    global attempts\n",
    "    save_pin = 1234   #hard code\n",
    "    balance = 10000   #hard code\n",
    "    pin = int(input(' enter the PIN:'))\n",
    "    if pin ==save_pin:\n",
    "        try:\n",
    "            amt = float(input('enter amount to withdraw:'))\n",
    "            temp_balance = balance-amt\n",
    "            if temp_balance <1000:\n",
    "                raise BalenceExceptionError('Insufficient balence')\n",
    "            balance = balance-amt\n",
    "            print('Remained balence is :',balance)\n",
    "        except Exception as var:\n",
    "            print(var)\n",
    "    else:\n",
    "        ans = input('Wrong Pin,do you want to continue again:(y/n): ')\n",
    "        if ans.lower() =='y':\n",
    "            attempts +=1\n",
    "            try:\n",
    "                if attempts ==4:\n",
    "                    raise AttemptExceptionError('Too many attempts, your account is blocked for an hour')\n",
    "            except Exception as var:\n",
    "                \n",
    "                print(var)\n",
    "                time.sleep(3600)\n",
    "            else:\n",
    "                withdraw()\n",
    "        else:\n",
    "            print('Thank you')\n",
    "            return\n",
    "\n",
    "withdraw()"
   ]
  },
  {
   "cell_type": "code",
   "execution_count": null,
   "id": "9b2c543c",
   "metadata": {},
   "outputs": [],
   "source": []
  },
  {
   "cell_type": "code",
   "execution_count": null,
   "id": "32174177",
   "metadata": {},
   "outputs": [],
   "source": []
  },
  {
   "cell_type": "code",
   "execution_count": null,
   "id": "f5f0c327",
   "metadata": {},
   "outputs": [],
   "source": []
  },
  {
   "cell_type": "code",
   "execution_count": null,
   "id": "6c6a1dc0",
   "metadata": {},
   "outputs": [],
   "source": []
  }
 ],
 "metadata": {
  "kernelspec": {
   "display_name": "Python 3 (ipykernel)",
   "language": "python",
   "name": "python3"
  },
  "language_info": {
   "codemirror_mode": {
    "name": "ipython",
    "version": 3
   },
   "file_extension": ".py",
   "mimetype": "text/x-python",
   "name": "python",
   "nbconvert_exporter": "python",
   "pygments_lexer": "ipython3",
   "version": "3.11.0"
  }
 },
 "nbformat": 4,
 "nbformat_minor": 5
}
